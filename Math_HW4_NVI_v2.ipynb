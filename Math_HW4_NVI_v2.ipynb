{
  "nbformat": 4,
  "nbformat_minor": 0,
  "metadata": {
    "colab": {
      "provenance": []
    },
    "kernelspec": {
      "name": "python3",
      "display_name": "Python 3"
    },
    "language_info": {
      "name": "python"
    }
  },
  "cells": [
    {
      "cell_type": "markdown",
      "source": [
        "Через інтернет ти отримав два повідомлення, але повідомлення рідко доходять неушкодженими, й цей раз не став винятком.\n",
        "\n",
        "Але тобі пощастило! Пошкоджено всього по 1 біту у кожному повідомленні, при цьому вони захищенні кодом Хемінга.\n",
        "Завдання:\n",
        "- Напиши функцію для пошуку помилки\n",
        "- Напиши функцію для її виправлення.\n",
        "- Прибери перевірочні біти.\n",
        "- Прочитай, що тобі було надіслано.\n",
        "- *Якщо ти хочеш більше практики, можеш реалізувати функцію кодування повідомлення, проте це завдання не оцінюється.\n",
        "\n",
        "Примітка: Перевірочні біти знаходяться на позиціях, що відповідають ступенням двійки та нульовій. Повідомлення в ascii кодуванні. Біти відсортовані зліва направо(формат \"little\")"
      ],
      "metadata": {
        "id": "7Nv00Y9KN7Il"
      }
    },
    {
      "cell_type": "code",
      "source": [
        "import numpy as np\n",
        "from functools import reduce\n",
        "\n",
        "def find_error(bits):\n",
        "    error_idx = reduce(lambda x, y: x ^ y, [i for i, bit in enumerate(bits) if bit == '1'])\n",
        "    return error_idx\n",
        "\n",
        "def fix_error(bits, error_idx):\n",
        "    bits = list(bits)\n",
        "    bits[error_idx] = '0' if bits[error_idx] == '1' else '1'\n",
        "    return ''.join(bits)\n",
        "\n",
        "def remove_parity_bits(bits):\n",
        "    data_bits = []\n",
        "    for i, bit in enumerate(bits):\n",
        "      if i & (i - 1) != 0:\n",
        "        data_bits.append(bit)\n",
        "    return ''.join(data_bits)\n",
        "\n",
        "def text_from_bits(bits, encoding='ascii'):\n",
        "    n = int(bits, 2)\n",
        "    return n.to_bytes((n.bit_length() + 7) // 8, \"little\").decode(encoding) or \"\\0\""
      ],
      "metadata": {
        "id": "C6kbnlxPmKUr"
      },
      "execution_count": 21,
      "outputs": []
    },
    {
      "cell_type": "code",
      "source": [
        "def encode_message(message):\n",
        "    message_bits = format(int.from_bytes(message.encode(), \"little\"), '08b')\n",
        "    parity_bits = [2**i for i in range(message_bits.bit_length()) if i & (i - 1) == 0]\n",
        "\n",
        "    encoded_bits = []\n",
        "    j = 0\n",
        "\n",
        "    for i in range(1, len(message_bits) + len(parity_bits) + 1):\n",
        "        if i not in parity_bits:\n",
        "            encoded_bits.append(message_bits[j])\n",
        "            j += 1\n",
        "        else:\n",
        "            encoded_bits.append('0')  # Додаємо перевірочний біт з початковим значенням '0'\n",
        "\n",
        "    for i in parity_bits:\n",
        "        encoded_bits[i-1] = '1' if sum(int(encoded_bits[j-1]) for j in range(1, len(encoded_bits)+1) if (j & i) != 0) % 2 == 1 else '0'\n",
        "\n",
        "    return encoded_bits\n"
      ],
      "metadata": {
        "id": "uxakOGHZlAcN"
      },
      "execution_count": 22,
      "outputs": []
    },
    {
      "cell_type": "code",
      "source": [
        "message1 = \"010011111010001110010101111001001100000011100100110010101110110001101111001000000111010001101111011011100010000001110011001001111011101000110100100100000011101000111010101000010001000010110001001101111011010100010000001100100011011010110111101000111\"\n",
        "message2 = \"00101111001000110100100110000101111000000100000011101000111100000110010101101110001000000110100101110101011101000110111001010110100101111011110010110110000101110011101000010111100101111001110100111001101110000011101000111010001101000\"\n"
      ],
      "metadata": {
        "id": "TERDRhlYiTYb"
      },
      "execution_count": 23,
      "outputs": []
    },
    {
      "cell_type": "code",
      "source": [
        "# Пошук та виправлення помилок\n",
        "error_idx_1 = find_error(message1)\n",
        "corrected_message1 = fix_error(message1, error_idx_1)\n",
        "\n",
        "error_idx_2 = find_error(message2)\n",
        "corrected_message2 = fix_error(message2, error_idx_2)\n",
        "\n",
        "# Перетворення бітів у текст\n",
        "decoded_message1 = text_from_bits(remove_parity_bits(corrected_message1))\n",
        "decoded_message2 = text_from_bits(remove_parity_bits(corrected_message2))\n",
        "\n",
        "# Виведення результатів\n",
        "print(\"Повідомлення 1 (декодоване):\", decoded_message1)\n",
        "print(\"Повідомлення 2 (декодоване):\", decoded_message2)"
      ],
      "metadata": {
        "id": "ljPsEGQuYAis",
        "colab": {
          "base_uri": "https://localhost:8080/"
        },
        "outputId": "b6369efd-6905-4473-b7fa-280d99485bd6"
      },
      "execution_count": 31,
      "outputs": [
        {
          "output_type": "stream",
          "name": "stdout",
          "text": [
            "Повідомлення 1 (декодоване): Good job!But it's not over yet\n",
            "Повідомлення 2 (декодоване): https://t.ly/Vltui next part\n"
          ]
        }
      ]
    }
  ]
}