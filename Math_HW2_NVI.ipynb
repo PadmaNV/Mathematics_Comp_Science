{
  "nbformat": 4,
  "nbformat_minor": 0,
  "metadata": {
    "colab": {
      "provenance": []
    },
    "kernelspec": {
      "name": "python3",
      "display_name": "Python 3"
    },
    "language_info": {
      "name": "python"
    }
  },
  "cells": [
    {
      "cell_type": "markdown",
      "source": [
        "\n",
        "В цьому завданні ти реалізуєш різні методи вирішення систем лінійних рівнянь та порівняєш їх швидкість. Написані функції мають працювати з системами будь-якого розміру.\n",
        "- Задай матрицю та вектор вільних членів для наступної системи:"
      ],
      "metadata": {
        "id": "bHTmMx9mDoWb"
      }
    },
    {
      "cell_type": "markdown",
      "source": [
        "![image.png](data:image/png;base64,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)\n"
      ],
      "metadata": {
        "id": "Hwb1-KHJAPmR"
      }
    },
    {
      "cell_type": "code",
      "source": [
        "import numpy as np\n",
        "A = np.array([[-1, 1, 2], [0, -1, -3], [4, -3, 2]])\n",
        "B = np.array([1, -4, 7])"
      ],
      "metadata": {
        "id": "T4BEZ2vXByqI"
      },
      "execution_count": 27,
      "outputs": []
    },
    {
      "cell_type": "markdown",
      "source": [
        "\n",
        "- Напиши функцію для вирішення системи матричним методом\n",
        "- Напиши функцію для вирішення системи методом Крамера\n",
        "- Напиши функцію для вирішення системи методом Гауса\n",
        "- Прочитай систему з csv файлу за [посиланням](https://docs.google.com/spreadsheets/d/1WdYrT6ukWxm0h-5DiMF3LZPIV7kBZiLYJgfPhWY0DNM/edit#gid=0) та виріши її трьома реалізованими функціями. Зроби висновки щодо теоретичних очікувань та фактичного отриманого часу виконання. Обґрунтуй отримані результати."
      ],
      "metadata": {
        "id": "BgqgSUctDj_l"
      }
    },
    {
      "cell_type": "code",
      "execution_count": 28,
      "metadata": {
        "id": "yJJLOyigUduv",
        "colab": {
          "base_uri": "https://localhost:8080/"
        },
        "outputId": "41f2d8a5-41d3-499d-9811-73d9aab08791"
      },
      "outputs": [
        {
          "output_type": "stream",
          "name": "stdout",
          "text": [
            "Вектор рішення: \r\n",
            " [2. 1. 1.]\n"
          ]
        }
      ],
      "source": [
        "# Напиши функцію для вирішення системи матричним методом\n",
        "def solve_inv_matrix(a, b, verbose=False):\n",
        "    a_inv = np.linalg.inv(a)\n",
        "    x = np.dot(a_inv, b)\n",
        "    return x\n",
        "\n",
        "print(f\"Вектор рішення: \\r\\n {solve_inv_matrix(A, B)}\")"
      ]
    },
    {
      "cell_type": "code",
      "source": [
        "# Напиши функцію для вирішення системи методом Крамера\n",
        "def solve_cramer(a, b, verbose=False):\n",
        "    n = len(b)\n",
        "    x = np.zeros(n)\n",
        "    det_a = np.linalg.det(a)\n",
        "\n",
        "    for i in range(n):\n",
        "        a_temp = a.copy()\n",
        "        a_temp[:, i] = b\n",
        "        x[i] = np.linalg.det(a_temp) / det_a\n",
        "\n",
        "    return x\n",
        "\n",
        "print(f\"Вектор рішення: \\r\\n {solve_cramer(A, B)}\")"
      ],
      "metadata": {
        "id": "PJMQzXkrAQmM",
        "colab": {
          "base_uri": "https://localhost:8080/"
        },
        "outputId": "3a7fc812-40d3-4de0-81bc-7c60e3518953"
      },
      "execution_count": 31,
      "outputs": [
        {
          "output_type": "stream",
          "name": "stdout",
          "text": [
            "Вектор рішення: \r\n",
            " [2. 1. 1.]\n"
          ]
        }
      ]
    },
    {
      "cell_type": "code",
      "source": [
        "# Напиши функцію для вирішення системи методом Гауса\n",
        "def solve_gausse(a, b, verbose=False):\n",
        "    augmented_matrix = np.column_stack((a.astype(np.float64), b.astype(np.float64)))\n",
        "\n",
        "    n = len(b)\n",
        "\n",
        "    for i in range(n):\n",
        "        if augmented_matrix[i, i] == 0:\n",
        "            raise ValueError(\"Головний діагональний елемент не може бути нулем.\")\n",
        "\n",
        "        augmented_matrix[i, :] /= augmented_matrix[i, i]\n",
        "\n",
        "        for j in range(i + 1, n):\n",
        "            augmented_matrix[j, :] -= augmented_matrix[j, i] * augmented_matrix[i, :]\n",
        "\n",
        "    # Етап зворотнього ходу\n",
        "    x = np.zeros(n)\n",
        "    for i in range(n - 1, -1, -1):\n",
        "        x[i] = augmented_matrix[i, -1]\n",
        "        for j in range(i + 1, n):\n",
        "            x[i] -= augmented_matrix[i, j] * x[j]\n",
        "\n",
        "    return x\n",
        "\n",
        "print(f\"Вектор рішення: \\r\\n {solve_gausse(A, B)}\")"
      ],
      "metadata": {
        "id": "Yi7uTAAIARSj",
        "colab": {
          "base_uri": "https://localhost:8080/"
        },
        "outputId": "1fe9a190-657f-48b1-d9ea-4fc4c0d7ab0a"
      },
      "execution_count": 34,
      "outputs": [
        {
          "output_type": "stream",
          "name": "stdout",
          "text": [
            "Вектор рішення: \r\n",
            " [2. 1. 1.]\n"
          ]
        }
      ]
    },
    {
      "cell_type": "code",
      "source": [
        "# Прочитай систему з csv файлу за посиланням та виріши її трьома реалізованими функціями.\n",
        "# Опиши теоретичні очікування та фактичну різницю часу виконання. Яка, на твою думку, причина результатів, які ми бачимо?\n",
        "import pandas as pd\n",
        "import numpy as np\n",
        "\n",
        "url = 'https://docs.google.com/spreadsheets/u/0/d/1WdYrT6ukWxm0h-5DiMF3LZPIV7kBZiLYJgfPhWY0DNM/edit?fromCopy=true'\n",
        "url = url[:url.find('/edit')] + '/export?format=csv'\n",
        "\n",
        "df = pd.read_csv(url)\n",
        "\n",
        "print(df)\n",
        ""
      ],
      "metadata": {
        "id": "u9NBA_epeFbG",
        "colab": {
          "base_uri": "https://localhost:8080/"
        },
        "outputId": "484d7846-0d36-4a18-9d0a-476789e19573"
      },
      "execution_count": 9,
      "outputs": [
        {
          "output_type": "stream",
          "name": "stdout",
          "text": [
            "     x0  x1  x2  x3  x4  x5  x6  x7  x8  x9  ...  x291  x292  x293  x294  \\\n",
            "0     2   0   2   0   1   2   1   2   1   1  ...     2     0     1     2   \n",
            "1     2   1   1   0   0   1   0   2   0   0  ...     1     1     0     0   \n",
            "2     2   1   0   0   0   2   0   0   1   1  ...     1     2     2     0   \n",
            "3     0   0   2   2   1   2   1   0   1   0  ...     2     0     0     1   \n",
            "4     1   2   1   2   1   2   2   1   2   2  ...     2     1     1     0   \n",
            "..   ..  ..  ..  ..  ..  ..  ..  ..  ..  ..  ...   ...   ...   ...   ...   \n",
            "295   2   2   1   0   0   1   0   0   0   1  ...     2     1     1     2   \n",
            "296   1   2   0   2   1   0   1   0   1   0  ...     0     1     0     0   \n",
            "297   2   2   1   1   1   0   2   1   2   0  ...     0     1     2     1   \n",
            "298   0   0   1   1   0   1   0   2   2   1  ...     0     2     0     0   \n",
            "299   1   0   2   0   0   1   2   1   1   1  ...     2     1     1     2   \n",
            "\n",
            "     x295  x296  x297  x298  x299    b  \n",
            "0       2     0     2     1     1  602  \n",
            "1       2     1     1     2     0  568  \n",
            "2       1     0     0     1     1  559  \n",
            "3       2     2     1     0     1  579  \n",
            "4       0     1     1     0     2  596  \n",
            "..    ...   ...   ...   ...   ...  ...  \n",
            "295     0     1     1     2     2  542  \n",
            "296     1     0     2     0     0  536  \n",
            "297     1     2     2     0     2  538  \n",
            "298     0     0     0     1     0  558  \n",
            "299     2     2     0     0     1  537  \n",
            "\n",
            "[300 rows x 301 columns]\n"
          ]
        }
      ]
    },
    {
      "cell_type": "code",
      "source": [
        "a = df.iloc[:, :-1].values\n",
        "b = df['b'].values\n",
        "print(f'B vector shape ->{b.shape}')\n",
        "\n",
        "b_2d = b.reshape(-1, 1)\n",
        "print(f'B_2D vector shape ->{b_2d.shape}')\n",
        "rows, columns = b_2d.shape\n",
        "print(f\"Number of rows: {rows}\")\n",
        "print(f\"Number of columns: {columns}\")"
      ],
      "metadata": {
        "id": "PWHSapddthDX",
        "colab": {
          "base_uri": "https://localhost:8080/"
        },
        "outputId": "30d927ec-bef7-4cdf-ff1d-902c076dd437"
      },
      "execution_count": 20,
      "outputs": [
        {
          "output_type": "stream",
          "name": "stdout",
          "text": [
            "B vector shape ->(300,)\n",
            "B_2D vector shape ->(300, 1)\n",
            "Number of rows: 300\n",
            "Number of columns: 1\n"
          ]
        }
      ]
    },
    {
      "cell_type": "code",
      "source": [
        "%%timeit -r 2 -n 10\n",
        "solve_inv_matrix(a, b)"
      ],
      "metadata": {
        "id": "kehQNUQhgSI_",
        "colab": {
          "base_uri": "https://localhost:8080/"
        },
        "outputId": "3f9c6d4b-97eb-4c03-f546-ad30e61ae2b4"
      },
      "execution_count": 38,
      "outputs": [
        {
          "output_type": "stream",
          "name": "stdout",
          "text": [
            "6.2 ms ± 163 µs per loop (mean ± std. dev. of 2 runs, 10 loops each)\n"
          ]
        }
      ]
    },
    {
      "cell_type": "code",
      "source": [
        "%%timeit -r 2 -n 10\n",
        "solve_cramer(a, b)"
      ],
      "metadata": {
        "id": "Xa7A0ySiiTTa",
        "colab": {
          "base_uri": "https://localhost:8080/"
        },
        "outputId": "d93ffd9f-a59a-49ca-ff7c-9c5245679afa"
      },
      "execution_count": 39,
      "outputs": [
        {
          "output_type": "stream",
          "name": "stdout",
          "text": [
            "893 ms ± 135 ms per loop (mean ± std. dev. of 2 runs, 10 loops each)\n"
          ]
        }
      ]
    },
    {
      "cell_type": "code",
      "source": [
        "%%timeit -r 2 -n 10\n",
        "solve_gausse(a, b)"
      ],
      "metadata": {
        "colab": {
          "base_uri": "https://localhost:8080/"
        },
        "id": "2Dw0OeYr2FCr",
        "outputId": "ab95af09-f88a-4e59-e553-2b4a596c71b4"
      },
      "execution_count": 40,
      "outputs": [
        {
          "output_type": "stream",
          "name": "stdout",
          "text": [
            "200 ms ± 1.87 ms per loop (mean ± std. dev. of 2 runs, 10 loops each)\n"
          ]
        }
      ]
    },
    {
      "cell_type": "markdown",
      "source": [
        "## **Висновки: **\n",
        "\n",
        "**Матричний метод** (solve_inv_matrix):\n",
        "Цей метод використовує обернену матрицю для знаходження розв'язку системи.\n",
        "Обчислення оберненої матриці - дорога операція, особливо для великих матриць.\n",
        "Результат показує, що цей метод дуже швидкий порівняно з іншими в даному випадку.\n",
        "\n",
        "**Метод Крамера** (solve_cramer):\n",
        "Цей метод використовує формулу Крамера, яка включає обчислення детермінанту матриці.\n",
        "Обчислення детермінанту також може бути дорогою операцією, особливо для великих матриць.\n",
        "Результат вказує на те, що метод Крамера виявився найповільнішим серед трьох.\n",
        "\n",
        "**Метод Гаусса** (solve_gausse):\n",
        "Цей метод використовує елементарні операції для приведення матриці до верхньої трикутної форми та здійснення зворотного ходу.\n",
        "Він зазвичай є ефективним для розріджених та великих матриць, але його ефективність може залежати від специфічності системи рівнянь.\n",
        "Результат вказує на те, що метод Гаусса працює швидше за метод Крамера, але повільніше, ніж матричний метод.\n",
        "\n",
        "---\n",
        "\n",
        "*** Загалом, вибір методу для розв'язання системи лінійних рівнянь повинен залежати від конкретних умов задачі та розмірності матриці. Якщо матриця не є дуже великою і обернення можливе, то матричний метод може бути найшвидшим. В інших випадках, метод Гаусса може бути більш ефективним. Метод Крамера, зазвичай, використовується для невеликих систем рівнянь, оскільки він може бути обчислювально витратним для великих систем через необхідність обчислення детермінанту.***\n",
        "\n",
        "\n",
        "\n",
        "\n",
        "\n",
        "\n"
      ],
      "metadata": {
        "id": "zcZb-3ZH2TG9"
      }
    }
  ]
}